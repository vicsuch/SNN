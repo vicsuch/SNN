{
  "nbformat": 4,
  "nbformat_minor": 0,
  "metadata": {
    "colab": {
      "provenance": []
    },
    "kernelspec": {
      "name": "python3",
      "display_name": "Python 3"
    },
    "language_info": {
      "name": "python"
    }
  },
  "cells": [
    {
      "cell_type": "markdown",
      "metadata": {
        "id": "view-in-github"
      },
      "source": [
        "<a href=\"https://colab.research.google.com/github/IgnacioPardo/SNN/blob/main/SNN.ipynb\" target=\"_parent\"><img src=\"https://colab.research.google.com/assets/colab-badge.svg\" alt=\"Open In Colab\"/></a>"
      ]
    },
    {
      "cell_type": "markdown",
      "source": [
        "# Simple Neural Network\n",
        "\n",
        "Simple Red Neuronal (Perceptrón) para la materia Tecnologías Exponenciales - TIC\n",
        "\n",
        "Inspirado en https://github.com/jonasbostoen/simple-neural-network"
      ],
      "metadata": {
        "id": "E5MvfaYmnfke"
      }
    },
    {
      "cell_type": "markdown",
      "source": [
        "### Librerias"
      ],
      "metadata": {
        "id": "WYr3ptD1nklQ"
      }
    },
    {
      "cell_type": "code",
      "execution_count": null,
      "metadata": {
        "id": "ZLJi7O0hCEn3"
      },
      "outputs": [],
      "source": [
        "import numpy as np\n",
        "import pandas as pd\n",
        "import matplotlib.pyplot as plt\n",
        "from IPython.display import HTML, display\n",
        "import tabulate\n",
        "import networkx as nx\n",
        "from random import random as rand\n",
        "import itertools"
      ]
    },
    {
      "cell_type": "code",
      "source": [
        "np.random.seed(1)"
      ],
      "metadata": {
        "id": "lUUgSMF_CM5m"
      },
      "execution_count": null,
      "outputs": []
    },
    {
      "cell_type": "markdown",
      "source": [
        "### Funciones"
      ],
      "metadata": {
        "id": "b8-iBQcXnmQz"
      }
    },
    {
      "cell_type": "markdown",
      "source": [
        "Estas son las funciones de activacion, que permiten hacer que el modelo no sea lineal. Y hace que los valores esten entre 0 y 1."
      ],
      "metadata": {
        "id": "SnhyjzIOPD1s"
      }
    },
    {
      "cell_type": "code",
      "source": [
        "def sigmoid(x):\n",
        "    return 1 / ( 1 + np.exp(-x) )\n",
        "\n",
        "# sigmoid = lambda x : 1 / ( 1 + np.exp(-x) )\n",
        "\n",
        "def sigmoid_derivative(x):\n",
        "    return x * (1 - x)\n",
        "\n",
        "# sigmoid_derivative = lambda x : x * (1 - x)"
      ],
      "metadata": {
        "id": "d-ylyCurCJpi"
      },
      "execution_count": null,
      "outputs": []
    },
    {
      "cell_type": "markdown",
      "source": [
        "\n",
        "Sigmoid Function\n",
        "$$\\operatorname{f}(x)=\\frac{1}{1+e^{(-x)}}$$\n",
        "\n",
        "Sigmoid Derivative Function\n",
        "$$\\operatorname{f'}(x)=x \\times (1-x)$$"
      ],
      "metadata": {
        "id": "R5ycxQ3TFT8S"
      }
    },
    {
      "cell_type": "markdown",
      "source": [
        "#### Visualización Función Sigmoide"
      ],
      "metadata": {
        "id": "Q0ikk-Oyno28"
      }
    },
    {
      "cell_type": "code",
      "source": [
        "x = np.linspace(-5,5,100)\n",
        "y = sigmoid(x)\n",
        "fig = plt.figure()\n",
        "ax = fig.add_subplot(1, 1, 1)\n",
        "\n",
        "# Move left y-axis and bottim x-axis to centre, passing through (0,0)\n",
        "ax.spines['left'].set_position('center')\n",
        "\n",
        "# Eliminate upper and right axes\n",
        "ax.spines['right'].set_color('none')\n",
        "ax.spines['top'].set_color('none')\n",
        "\n",
        "plt.plot(x, y)\n",
        "plt.locator_params(axis='y', nbins=3)\n",
        "plt.yticks(fontsize=18)\n",
        "plt.xticks(fontsize=18)\n",
        "plt.grid()"
      ],
      "metadata": {
        "colab": {
          "base_uri": "https://localhost:8080/",
          "height": 440
        },
        "id": "_T8o08_KGUpQ",
        "outputId": "4b18a895-f8b9-41a2-98b1-266675cf4e03"
      },
      "execution_count": null,
      "outputs": [
        {
          "output_type": "display_data",
          "data": {
            "text/plain": [
              "<Figure size 640x480 with 1 Axes>"
            ],
            "image/png": "[encoded data removed]"
          },
          "metadata": {}
        }
      ]
    },
    {
      "cell_type": "markdown",
      "source": [
        "## Setup"
      ],
      "metadata": {
        "id": "Lt58rBeCoBqX"
      }
    },
    {
      "cell_type": "markdown",
      "source": [
        "### Values"
      ],
      "metadata": {
        "id": "wlwVE47Lntcq"
      }
    },
    {
      "cell_type": "markdown",
      "source": [
        "#### Training Values"
      ],
      "metadata": {
        "id": "xvUJGV0Huj1F"
      }
    },
    {
      "cell_type": "markdown",
      "source": [
        "Aqui se define las dimensiones de la red. En la variable training input, se define la cantidad de neuronas de entrada. En este caso hay 4 parametros. Y en la variable de training otputs se define la cantidad de salidas. En este caso hay dos neuronas de salida."
      ],
      "metadata": {
        "id": "7SZyYJwxPYdq"
      }
    },
    {
      "cell_type": "code",
      "source": [
        "#Chocolates\n",
        "#Columnas: Tiene dulce de leche, granisado, caro, artesanal\n",
        "training_inputs = np.array([\n",
        "    [1,1,0,0],\n",
        "    [0,0,1,1],\n",
        "    [1,0,0,1],\n",
        "    [1,0,0,0],\n",
        "    [0,1,1,0],\n",
        "    [0,1,1,1],\n",
        "    [0,0,0,0],\n",
        "    [1,1,1,1],\n",
        "    [1,0,1,0],\n",
        "    [1,0,1,1],\n",
        "    [1,1,1,0],\n",
        "    [1,1,0,1]\n",
        "])\n",
        "\n",
        "training_outputs = np.array([\n",
        "    #Si me gusta 1, si no 0\n",
        "    [1,0,1,1,0,0,0,1,0,1,0,1],\n",
        "    #Si a Chordi le gusta 1, si no 0\n",
        "    [0,1,0,0,1,1,1,0,0,0,0,1]\n",
        "    ]).T\n",
        "\n",
        "display(training_inputs)\n",
        "display(training_outputs)"
      ],
      "metadata": {
        "colab": {
          "base_uri": "https://localhost:8080/",
          "height": 433
        },
        "id": "IJe-z6WUCH98",
        "outputId": "492088a9-703c-48ef-9140-218609987760"
      },
      "execution_count": null,
      "outputs": [
        {
          "output_type": "display_data",
          "data": {
            "text/plain": [
              "array([[1, 1, 0, 0],\n",
              "       [0, 0, 1, 1],\n",
              "       [1, 0, 0, 1],\n",
              "       [1, 0, 0, 0],\n",
              "       [0, 1, 1, 0],\n",
              "       [0, 1, 1, 1],\n",
              "       [0, 0, 0, 0],\n",
              "       [1, 1, 1, 1],\n",
              "       [1, 0, 1, 0],\n",
              "       [1, 0, 1, 1],\n",
              "       [1, 1, 1, 0],\n",
              "       [1, 1, 0, 1]])"
            ]
          },
          "metadata": {}
        },
        {
          "output_type": "display_data",
          "data": {
            "text/plain": [
              "array([[1, 0],\n",
              "       [0, 1],\n",
              "       [1, 0],\n",
              "       [1, 0],\n",
              "       [0, 1],\n",
              "       [0, 1],\n",
              "       [0, 1],\n",
              "       [1, 0],\n",
              "       [0, 0],\n",
              "       [1, 0],\n",
              "       [0, 0],\n",
              "       [1, 1]])"
            ]
          },
          "metadata": {}
        }
      ]
    },
    {
      "cell_type": "code",
      "source": [
        "training_values = np.concatenate((training_inputs.T, training_outputs.T)).T\n",
        "table = lambda arr : display(HTML(tabulate.tabulate(arr, tablefmt='html')))\n",
        "table(training_values)"
      ],
      "metadata": {
        "colab": {
          "base_uri": "https://localhost:8080/",
          "height": 270
        },
        "id": "PCajxnvAdyhl",
        "outputId": "d8d855f9-3331-44ac-d905-419c6c937b38"
      },
      "execution_count": null,
      "outputs": [
        {
          "output_type": "display_data",
          "data": {
            "text/plain": [
              "<IPython.core.display.HTML object>"
            ],
            "text/html": [
              "<table>\n",
              "<tbody>\n",
              "<tr><td style=\"text-align: right;\">1</td><td style=\"text-align: right;\">1</td><td style=\"text-align: right;\">0</td><td style=\"text-align: right;\">0</td><td style=\"text-align: right;\">1</td><td style=\"text-align: right;\">0</td></tr>\n",
              "<tr><td style=\"text-align: right;\">0</td><td style=\"text-align: right;\">0</td><td style=\"text-align: right;\">1</td><td style=\"text-align: right;\">1</td><td style=\"text-align: right;\">0</td><td style=\"text-align: right;\">1</td></tr>\n",
              "<tr><td style=\"text-align: right;\">1</td><td style=\"text-align: right;\">0</td><td style=\"text-align: right;\">0</td><td style=\"text-align: right;\">1</td><td style=\"text-align: right;\">1</td><td style=\"text-align: right;\">0</td></tr>\n",
              "<tr><td style=\"text-align: right;\">1</td><td style=\"text-align: right;\">0</td><td style=\"text-align: right;\">0</td><td style=\"text-align: right;\">0</td><td style=\"text-align: right;\">1</td><td style=\"text-align: right;\">0</td></tr>\n",
              "<tr><td style=\"text-align: right;\">0</td><td style=\"text-align: right;\">1</td><td style=\"text-align: right;\">1</td><td style=\"text-align: right;\">0</td><td style=\"text-align: right;\">0</td><td style=\"text-align: right;\">1</td></tr>\n",
              "<tr><td style=\"text-align: right;\">0</td><td style=\"text-align: right;\">1</td><td style=\"text-align: right;\">1</td><td style=\"text-align: right;\">1</td><td style=\"text-align: right;\">0</td><td style=\"text-align: right;\">1</td></tr>\n",
              "<tr><td style=\"text-align: right;\">0</td><td style=\"text-align: right;\">0</td><td style=\"text-align: right;\">0</td><td style=\"text-align: right;\">0</td><td style=\"text-align: right;\">0</td><td style=\"text-align: right;\">1</td></tr>\n",
              "<tr><td style=\"text-align: right;\">1</td><td style=\"text-align: right;\">1</td><td style=\"text-align: right;\">1</td><td style=\"text-align: right;\">1</td><td style=\"text-align: right;\">1</td><td style=\"text-align: right;\">0</td></tr>\n",
              "<tr><td style=\"text-align: right;\">1</td><td style=\"text-align: right;\">0</td><td style=\"text-align: right;\">1</td><td style=\"text-align: right;\">0</td><td style=\"text-align: right;\">0</td><td style=\"text-align: right;\">0</td></tr>\n",
              "<tr><td style=\"text-align: right;\">1</td><td style=\"text-align: right;\">0</td><td style=\"text-align: right;\">1</td><td style=\"text-align: right;\">1</td><td style=\"text-align: right;\">1</td><td style=\"text-align: right;\">0</td></tr>\n",
              "<tr><td style=\"text-align: right;\">1</td><td style=\"text-align: right;\">1</td><td style=\"text-align: right;\">1</td><td style=\"text-align: right;\">0</td><td style=\"text-align: right;\">0</td><td style=\"text-align: right;\">0</td></tr>\n",
              "<tr><td style=\"text-align: right;\">1</td><td style=\"text-align: right;\">1</td><td style=\"text-align: right;\">0</td><td style=\"text-align: right;\">1</td><td style=\"text-align: right;\">1</td><td style=\"text-align: right;\">1</td></tr>\n",
              "</tbody>\n",
              "</table>"
            ]
          },
          "metadata": {}
        }
      ]
    },
    {
      "cell_type": "markdown",
      "source": [
        "#### Synaptic weights"
      ],
      "metadata": {
        "id": "WM0UGBrAnxKs"
      }
    },
    {
      "cell_type": "code",
      "source": [
        "n = training_inputs.shape[1]\n",
        "m = training_outputs.shape[1]\n",
        "synaptic_weights = 2 + np.random.random((n, m)) - 1\n",
        "\n",
        "synaptic_weights"
      ],
      "metadata": {
        "colab": {
          "base_uri": "https://localhost:8080/"
        },
        "id": "2WjmwkX7E6t1",
        "outputId": "8a99f71c-aea4-4e6e-b87a-da82b78c2987"
      },
      "execution_count": null,
      "outputs": [
        {
          "output_type": "execute_result",
          "data": {
            "text/plain": [
              "array([[1.417022  , 1.72032449],\n",
              "       [1.00011437, 1.30233257],\n",
              "       [1.14675589, 1.09233859],\n",
              "       [1.18626021, 1.34556073]])"
            ]
          },
          "metadata": {},
          "execution_count": 7
        }
      ]
    },
    {
      "cell_type": "markdown",
      "source": [
        "## Training"
      ],
      "metadata": {
        "id": "SvRwhjxMn-lw"
      }
    },
    {
      "cell_type": "markdown",
      "source": [
        "Para obtener un resultado a partir de los inputs y los synaptic weights se realiza la siguiente función:\n",
        "\n",
        "$$\\sum_{i=0}^{n}{x_iw_i}$$\n",
        "\n",
        "Y se le aplica la función sigmoide para normalizar al rango 0, 1\n",
        "\n",
        "Por ejemplo, si nuestros inputs $x_i$ son `[1, 1, 1]` y nuestros pesos sinapticos $w_i$ son `[[11.30926442], [-0.20511667], [-5.4500033]]`\n",
        "\n",
        "Nos resulta la cuenta\n",
        "$$[1 \\times 11.30926442] + [1 \\times (-0.20511667)] + [1 \\times (-5.4500033)] = 5.6541444499999995$$\n",
        "\n",
        "Con la función sigmoide es facil ver como $$\\operatorname{sigmoid}(5.65) \\approx 1$$"
      ],
      "metadata": {
        "id": "vyFklb0-ptf3"
      }
    },
    {
      "cell_type": "code",
      "source": [
        "eval_NN = lambda x, w: sigmoid(np.dot(x, w))"
      ],
      "metadata": {
        "id": "cVzwPQlYstOz"
      },
      "execution_count": null,
      "outputs": []
    },
    {
      "cell_type": "markdown",
      "source": [
        "En este caso esta utilisando foward propagation para poder definir los pesos. Porque empiesa con los valores de training y calcula los outputs. Luego calcula el error."
      ],
      "metadata": {
        "id": "TlRQyVjSTSYl"
      }
    },
    {
      "cell_type": "code",
      "source": [
        "# 50000 epochs\n",
        "for iteration in range(50000):\n",
        "\n",
        "    # Arranca con los valores de training\n",
        "    input_layer = training_inputs\n",
        "\n",
        "    # Genera un output haciendo la suma de los valores de input multiplicados por su peso sinaptico, y aplicandole la función sigmoide para normalizar a -1, 1\n",
        "    outputs = eval_NN(input_layer, synaptic_weights)\n",
        "\n",
        "    # Calculo el error\n",
        "    error = training_outputs - outputs\n",
        "\n",
        "    # Ajusto los pesos en funcion al error y al resultado obtenido\n",
        "    adjustments = error * sigmoid_derivative(outputs)\n",
        "    synaptic_weights += np.dot(input_layer.T, adjustments)"
      ],
      "metadata": {
        "id": "GE6UM40eE8kR"
      },
      "execution_count": null,
      "outputs": []
    },
    {
      "cell_type": "code",
      "source": [
        "print('Synaptic weights after training')\n",
        "print(synaptic_weights)\n",
        "\n",
        "print('Outputs after training: ')\n",
        "print(outputs)"
      ],
      "metadata": {
        "colab": {
          "base_uri": "https://localhost:8080/"
        },
        "id": "8_LfZgY9FBpO",
        "outputId": "f050dcba-c26e-4fd7-847c-8831dfc9923d"
      },
      "execution_count": null,
      "outputs": [
        {
          "output_type": "stream",
          "name": "stdout",
          "text": [
            "Synaptic weights after training\n",
            "[[ 10.41150515 -22.36074421]\n",
            " [ -0.17998725  13.4002233 ]\n",
            " [-15.61206623  -8.71368015]\n",
            " [ 10.41147769  13.4002233 ]]\n",
            "Outputs after training: \n",
            "[[9.99963984e-01 1.28365535e-04]\n",
            " [5.48314406e-03 9.90865613e-01]\n",
            " [9.99999999e-01 1.28365535e-04]\n",
            " [9.99969916e-01 1.94479855e-10]\n",
            " [1.38551582e-07 9.90865613e-01]\n",
            " [4.58410548e-03 9.99999986e-01]\n",
            " [5.00000000e-01 5.00000000e-01]\n",
            " [9.93509597e-01 1.37351404e-02]\n",
            " [5.48329378e-03 3.19580602e-14]\n",
            " [9.94572889e-01 2.10964785e-08]\n",
            " [4.58423076e-03 2.10964785e-08]\n",
            " [9.99999999e-01 9.88338034e-01]]\n"
          ]
        }
      ]
    },
    {
      "cell_type": "markdown",
      "source": [
        "## Eval"
      ],
      "metadata": {
        "id": "1lBXXHfFoD67"
      }
    },
    {
      "cell_type": "code",
      "source": [
        "table(training_values)"
      ],
      "metadata": {
        "colab": {
          "base_uri": "https://localhost:8080/",
          "height": 270
        },
        "id": "zOynLtbAeKjy",
        "outputId": "7c1193bc-8432-4a6e-f013-33bc9caf2851"
      },
      "execution_count": null,
      "outputs": [
        {
          "output_type": "display_data",
          "data": {
            "text/plain": [
              "<IPython.core.display.HTML object>"
            ],
            "text/html": [
              "<table>\n",
              "<tbody>\n",
              "<tr><td style=\"text-align: right;\">1</td><td style=\"text-align: right;\">1</td><td style=\"text-align: right;\">0</td><td style=\"text-align: right;\">0</td><td style=\"text-align: right;\">1</td><td style=\"text-align: right;\">0</td></tr>\n",
              "<tr><td style=\"text-align: right;\">0</td><td style=\"text-align: right;\">0</td><td style=\"text-align: right;\">1</td><td style=\"text-align: right;\">1</td><td style=\"text-align: right;\">0</td><td style=\"text-align: right;\">1</td></tr>\n",
              "<tr><td style=\"text-align: right;\">1</td><td style=\"text-align: right;\">0</td><td style=\"text-align: right;\">0</td><td style=\"text-align: right;\">1</td><td style=\"text-align: right;\">1</td><td style=\"text-align: right;\">0</td></tr>\n",
              "<tr><td style=\"text-align: right;\">1</td><td style=\"text-align: right;\">0</td><td style=\"text-align: right;\">0</td><td style=\"text-align: right;\">0</td><td style=\"text-align: right;\">1</td><td style=\"text-align: right;\">0</td></tr>\n",
              "<tr><td style=\"text-align: right;\">0</td><td style=\"text-align: right;\">1</td><td style=\"text-align: right;\">1</td><td style=\"text-align: right;\">0</td><td style=\"text-align: right;\">0</td><td style=\"text-align: right;\">1</td></tr>\n",
              "<tr><td style=\"text-align: right;\">0</td><td style=\"text-align: right;\">1</td><td style=\"text-align: right;\">1</td><td style=\"text-align: right;\">1</td><td style=\"text-align: right;\">0</td><td style=\"text-align: right;\">1</td></tr>\n",
              "<tr><td style=\"text-align: right;\">0</td><td style=\"text-align: right;\">0</td><td style=\"text-align: right;\">0</td><td style=\"text-align: right;\">0</td><td style=\"text-align: right;\">0</td><td style=\"text-align: right;\">1</td></tr>\n",
              "<tr><td style=\"text-align: right;\">1</td><td style=\"text-align: right;\">1</td><td style=\"text-align: right;\">1</td><td style=\"text-align: right;\">1</td><td style=\"text-align: right;\">1</td><td style=\"text-align: right;\">0</td></tr>\n",
              "<tr><td style=\"text-align: right;\">1</td><td style=\"text-align: right;\">0</td><td style=\"text-align: right;\">1</td><td style=\"text-align: right;\">0</td><td style=\"text-align: right;\">0</td><td style=\"text-align: right;\">0</td></tr>\n",
              "<tr><td style=\"text-align: right;\">1</td><td style=\"text-align: right;\">0</td><td style=\"text-align: right;\">1</td><td style=\"text-align: right;\">1</td><td style=\"text-align: right;\">1</td><td style=\"text-align: right;\">0</td></tr>\n",
              "<tr><td style=\"text-align: right;\">1</td><td style=\"text-align: right;\">1</td><td style=\"text-align: right;\">1</td><td style=\"text-align: right;\">0</td><td style=\"text-align: right;\">0</td><td style=\"text-align: right;\">0</td></tr>\n",
              "<tr><td style=\"text-align: right;\">1</td><td style=\"text-align: right;\">1</td><td style=\"text-align: right;\">0</td><td style=\"text-align: right;\">1</td><td style=\"text-align: right;\">1</td><td style=\"text-align: right;\">1</td></tr>\n",
              "</tbody>\n",
              "</table>"
            ]
          },
          "metadata": {}
        }
      ]
    },
    {
      "cell_type": "code",
      "source": [
        "large = lambda x : display(HTML('<p style=\"font-size: 50px; color: #66D148\">'+str(x)+'</p>'))"
      ],
      "metadata": {
        "id": "1V_H4tV6vzvd"
      },
      "execution_count": null,
      "outputs": []
    },
    {
      "cell_type": "code",
      "source": [
        "a = 1 #@param {type:\"integer\"}\n",
        "b = 1 #@param {type:\"integer\"}\n",
        "c = 0 #@param {type:\"integer\"}\n",
        "d = 0 #@param {type:\"integer\"}\n",
        "\n",
        "\n",
        "input_layer = np.array([a, b, c, d])\n",
        "res = sigmoid(np.dot(input_layer, synaptic_weights))\n",
        "for i in res:\n",
        "  display(i)\n",
        "\n",
        "  thresh = 0.5\n",
        "  out = 0 if i < thresh else 1\n",
        "\n",
        "  large(out)"
      ],
      "metadata": {
        "colab": {
          "base_uri": "https://localhost:8080/",
          "height": 200
        },
        "id": "wlN9Pkcwbb-J",
        "outputId": "9283233c-15f9-4385-b2bd-1c6c97dfb0b6"
      },
      "execution_count": null,
      "outputs": [
        {
          "output_type": "display_data",
          "data": {
            "text/plain": [
              "0.9999639842390856"
            ]
          },
          "metadata": {}
        },
        {
          "output_type": "display_data",
          "data": {
            "text/plain": [
              "<IPython.core.display.HTML object>"
            ],
            "text/html": [
              "<p style=\"font-size: 50px; color: #66D148\">1</p>"
            ]
          },
          "metadata": {}
        },
        {
          "output_type": "display_data",
          "data": {
            "text/plain": [
              "0.00012836288216935772"
            ]
          },
          "metadata": {}
        },
        {
          "output_type": "display_data",
          "data": {
            "text/plain": [
              "<IPython.core.display.HTML object>"
            ],
            "text/html": [
              "<p style=\"font-size: 50px; color: #66D148\">0</p>"
            ]
          },
          "metadata": {}
        }
      ]
    },
    {
      "cell_type": "markdown",
      "source": [
        "#Bonus\n",
        "a) Primero, tener una sola matriz para guardar los weights no seria suficiente. Para lograr esto podriamos tener un array de matrices para guardar los distintos pesos. Es necesario tener una matriz con los biases.\n",
        "Para poder tener mas de una capa de neuronas lo que se puede reutilisar el codigo para calcular una capa. Para lograr esto los outputs de la primera capa de neuronas se puede usar como inputs de la segunda capa. De esta manera podriamos tener mas de una capa.\n",
        "\n",
        "b) Se suele utilisar en las redes neuronales en la utltima capa, en modelos de clasificacion. Es util porque en casos de clasificacion, es util que el modelo solamente caiga en dos valores.\n",
        "Por ejemplo, un modelo que clasifica imagenes y se encarga de decir si hay un perro en la imagen, no es util que el modelo me diga que hay 0.34 perro. En estos casos es preferible que lo defina a 0. Tampoco tendria sentido que detecte 0.34 perro. Porque el perro solamente puede estar o no estar, no hay punto intermedio."
      ],
      "metadata": {
        "id": "YNEIugXNLW_w"
      }
    }
  ]
}